{
 "cells": [
  {
   "cell_type": "markdown",
   "metadata": {},
   "source": [
    "# Smoothing of Intermediate Priors\n",
    "\n",
    "DSEA and IBU can smoothen intermediate priors to promote smooth solutions. This tutorial assumes you already know the other notebook at `doc/01-getting-started.ipynb`."
   ]
  },
  {
   "cell_type": "code",
   "execution_count": 2,
   "metadata": {},
   "outputs": [
    {
     "name": "stderr",
     "output_type": "stream",
     "text": [
      "┌ Info: Precompiling CherenkovDeconvolution [7995dc16-b5cc-11e8-32a0-21341f07e0b5]\n",
      "└ @ Base loading.jl:1342\n"
     ]
    }
   ],
   "source": [
    "using CherenkovDeconvolution\n",
    "using ScikitLearn, MLDataUtils, Random\n",
    "using Discretizers: encode, CategoricalDiscretizer\n",
    "\n",
    "# load the example data, encode labels with integers\n",
    "X, y_labels, _ = load_iris()\n",
    "y = encode(CategoricalDiscretizer(y_labels), y_labels)\n",
    "\n",
    "# split the data into training and observed data sets\n",
    "Random.seed!(42) # make split reproducible\n",
    "(X_train, y_train), (X_data, y_data) = splitobs(shuffleobs((X', y), obsdim = 1), obsdim = 1)\n",
    "\n",
    "b = TreeBinning(3; seed=876); # up to 3 clusters for IBU & RUN"
   ]
  },
  {
   "cell_type": "code",
   "execution_count": 9,
   "metadata": {},
   "outputs": [
    {
     "name": "stdout",
     "output_type": "stream",
     "text": [
      "no smoothing (0): 0.3333333333333333\n",
      "no smoothing (1): 0.32\n",
      "no smoothing (2): 0.31735537190082647\n",
      "no smoothing (3): 0.31680990030938466\n",
      "impact=1.0, O=1 (0): 0.3333333333333333\n",
      "impact=1.0, O=1 (1): 0.32\n",
      "impact=1.0, O=1 (2): 0.3193612774451098\n",
      "impact=1.0, O=1 (3): 0.3193307439498058\n",
      "impact=0.5, O=1 (0): 0.3333333333333333\n",
      "impact=0.5, O=1 (1): 0.32\n",
      "impact=0.5, O=1 (2): 0.31837563451776646\n",
      "impact=0.5, O=1 (3): 0.31817435526757365\n",
      "impact=0.0, O=1 (0): 0.3333333333333333\n",
      "impact=0.0, O=1 (1): 0.32\n",
      "impact=0.0, O=1 (2): 0.31735537190082647\n",
      "impact=0.0, O=1 (3): 0.31680990030938466\n"
     ]
    }
   ],
   "source": [
    "try_smoothing(n::String, s::Smoothing) =\n",
    "    deconvolve(IBU(b; inspect=(f,k,_,_)->println(\"$n ($k): $(f[2])\"), smoothing=s), X_data, X_train, y_train)\n",
    "\n",
    "try_smoothing(\"no smoothing\", NoSmoothing()) # the default\n",
    "try_smoothing(\"impact=1.0, O=1\", PolynomialSmoothing(1))\n",
    "try_smoothing(\"impact=0.5, O=1\", PolynomialSmoothing(1; impact=0.5))\n",
    "try_smoothing(\"impact=0.0, O=1\", PolynomialSmoothing(1; impact=0.0))\n",
    ";"
   ]
  }
 ],
 "metadata": {
  "kernelspec": {
   "display_name": "Julia 1.6.5",
   "language": "julia",
   "name": "julia-1.6"
  },
  "language_info": {
   "file_extension": ".jl",
   "mimetype": "application/julia",
   "name": "julia",
   "version": "1.6.5"
  }
 },
 "nbformat": 4,
 "nbformat_minor": 2
}
